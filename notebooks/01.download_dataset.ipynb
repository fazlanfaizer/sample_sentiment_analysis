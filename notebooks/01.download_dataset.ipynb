{
 "cells": [
  {
   "cell_type": "code",
   "execution_count": 1,
   "metadata": {},
   "outputs": [],
   "source": [
    "import numpy as np"
   ]
  },
  {
   "cell_type": "code",
   "execution_count": 1,
   "metadata": {},
   "outputs": [],
   "source": [
    "import json\n",
    "with open('../artifacts/kaggle.json', 'r') as file:\n",
    "    data = json.load(file)"
   ]
  },
  {
   "cell_type": "code",
   "execution_count": 2,
   "metadata": {},
   "outputs": [
    {
     "data": {
      "text/plain": [
       "{'username': 'fazlanfaizer', 'key': '4b9d897fa929e3f3190d5d3c1049969c'}"
      ]
     },
     "execution_count": 2,
     "metadata": {},
     "output_type": "execute_result"
    }
   ],
   "source": [
    "data"
   ]
  },
  {
   "cell_type": "code",
   "execution_count": 3,
   "metadata": {},
   "outputs": [
    {
     "name": "stdout",
     "output_type": "stream",
     "text": [
      "Collecting kaggle\n",
      "  Downloading kaggle-1.7.4-py3-none-any.whl.metadata (17 kB)\n",
      "Requirement already satisfied: bleach in c:\\users\\fazla\\desktop\\sample_sentiment_analysis\\.venv\\lib\\site-packages (from kaggle) (6.2.0)\n",
      "Requirement already satisfied: certifi>=14.05.14 in c:\\users\\fazla\\desktop\\sample_sentiment_analysis\\.venv\\lib\\site-packages (from kaggle) (2025.1.31)\n",
      "Requirement already satisfied: charset-normalizer in c:\\users\\fazla\\desktop\\sample_sentiment_analysis\\.venv\\lib\\site-packages (from kaggle) (3.4.1)\n",
      "Requirement already satisfied: idna in c:\\users\\fazla\\desktop\\sample_sentiment_analysis\\.venv\\lib\\site-packages (from kaggle) (3.10)\n",
      "Collecting protobuf (from kaggle)\n",
      "  Downloading protobuf-6.30.0-cp310-abi3-win_amd64.whl.metadata (593 bytes)\n",
      "Requirement already satisfied: python-dateutil>=2.5.3 in c:\\users\\fazla\\desktop\\sample_sentiment_analysis\\.venv\\lib\\site-packages (from kaggle) (2.9.0.post0)\n",
      "Collecting python-slugify (from kaggle)\n",
      "  Downloading python_slugify-8.0.4-py2.py3-none-any.whl.metadata (8.5 kB)\n",
      "Requirement already satisfied: requests in c:\\users\\fazla\\desktop\\sample_sentiment_analysis\\.venv\\lib\\site-packages (from kaggle) (2.32.3)\n",
      "Requirement already satisfied: setuptools>=21.0.0 in c:\\users\\fazla\\desktop\\sample_sentiment_analysis\\.venv\\lib\\site-packages (from kaggle) (76.0.0)\n",
      "Requirement already satisfied: six>=1.10 in c:\\users\\fazla\\desktop\\sample_sentiment_analysis\\.venv\\lib\\site-packages (from kaggle) (1.17.0)\n",
      "Collecting text-unidecode (from kaggle)\n",
      "  Downloading text_unidecode-1.3-py2.py3-none-any.whl.metadata (2.4 kB)\n",
      "Collecting tqdm (from kaggle)\n",
      "  Downloading tqdm-4.67.1-py3-none-any.whl.metadata (57 kB)\n",
      "     ---------------------------------------- 0.0/57.7 kB ? eta -:--:--\n",
      "     ---------------------------------------- 0.0/57.7 kB ? eta -:--:--\n",
      "     ------- -------------------------------- 10.2/57.7 kB ? eta -:--:--\n",
      "     -------------------------- ----------- 41.0/57.7 kB 487.6 kB/s eta 0:00:01\n",
      "     -------------------------------------- 57.7/57.7 kB 431.2 kB/s eta 0:00:00\n",
      "Requirement already satisfied: urllib3>=1.15.1 in c:\\users\\fazla\\desktop\\sample_sentiment_analysis\\.venv\\lib\\site-packages (from kaggle) (2.3.0)\n",
      "Requirement already satisfied: webencodings in c:\\users\\fazla\\desktop\\sample_sentiment_analysis\\.venv\\lib\\site-packages (from kaggle) (0.5.1)\n",
      "Requirement already satisfied: colorama in c:\\users\\fazla\\desktop\\sample_sentiment_analysis\\.venv\\lib\\site-packages (from tqdm->kaggle) (0.4.6)\n",
      "Downloading kaggle-1.7.4-py3-none-any.whl (173 kB)\n",
      "   ---------------------------------------- 0.0/173.2 kB ? eta -:--:--\n",
      "   ------- -------------------------------- 30.7/173.2 kB 1.4 MB/s eta 0:00:01\n",
      "   --------- ----------------------------- 41.0/173.2 kB 653.6 kB/s eta 0:00:01\n",
      "   ---------------- ---------------------- 71.7/173.2 kB 660.6 kB/s eta 0:00:01\n",
      "   ---------------------- --------------- 102.4/173.2 kB 590.8 kB/s eta 0:00:01\n",
      "   ------------------------------- ------ 143.4/173.2 kB 711.9 kB/s eta 0:00:01\n",
      "   -------------------------------------- 173.2/173.2 kB 651.7 kB/s eta 0:00:00\n",
      "Downloading protobuf-6.30.0-cp310-abi3-win_amd64.whl (430 kB)\n",
      "   ---------------------------------------- 0.0/431.0 kB ? eta -:--:--\n",
      "   -- ------------------------------------ 30.7/431.0 kB 660.6 kB/s eta 0:00:01\n",
      "   --- ----------------------------------- 41.0/431.0 kB 653.6 kB/s eta 0:00:01\n",
      "   ----- --------------------------------- 61.4/431.0 kB 656.4 kB/s eta 0:00:01\n",
      "   -------- ------------------------------ 92.2/431.0 kB 476.3 kB/s eta 0:00:01\n",
      "   --------- ---------------------------- 112.6/431.0 kB 467.6 kB/s eta 0:00:01\n",
      "   --------- ---------------------------- 112.6/431.0 kB 467.6 kB/s eta 0:00:01\n",
      "   ------------- ------------------------ 153.6/431.0 kB 416.7 kB/s eta 0:00:01\n",
      "   --------------- ---------------------- 174.1/431.0 kB 419.0 kB/s eta 0:00:01\n",
      "   ------------------ ------------------- 204.8/431.0 kB 444.2 kB/s eta 0:00:01\n",
      "   ------------------- ------------------ 225.3/431.0 kB 458.5 kB/s eta 0:00:01\n",
      "   ------------------------ ------------- 276.5/431.0 kB 472.9 kB/s eta 0:00:01\n",
      "   ------------------------- ------------ 286.7/431.0 kB 465.5 kB/s eta 0:00:01\n",
      "   ----------------------------- -------- 337.9/431.0 kB 511.2 kB/s eta 0:00:01\n",
      "   ---------------------------------- --- 389.1/431.0 kB 563.8 kB/s eta 0:00:01\n",
      "   ----------------------------------- -- 399.4/431.0 kB 553.5 kB/s eta 0:00:01\n",
      "   -------------------------------------- 431.0/431.0 kB 549.3 kB/s eta 0:00:00\n",
      "Downloading python_slugify-8.0.4-py2.py3-none-any.whl (10 kB)\n",
      "Downloading text_unidecode-1.3-py2.py3-none-any.whl (78 kB)\n",
      "   ---------------------------------------- 0.0/78.2 kB ? eta -:--:--\n",
      "   --------------- ------------------------ 30.7/78.2 kB 1.4 MB/s eta 0:00:01\n",
      "   ------------------------------- -------- 61.4/78.2 kB 825.8 kB/s eta 0:00:01\n",
      "   ---------------------------------------- 78.2/78.2 kB 623.1 kB/s eta 0:00:00\n",
      "Downloading tqdm-4.67.1-py3-none-any.whl (78 kB)\n",
      "   ---------------------------------------- 0.0/78.5 kB ? eta -:--:--\n",
      "   ----- ---------------------------------- 10.2/78.5 kB ? eta -:--:--\n",
      "   ------------------------------------ --- 71.7/78.5 kB 2.0 MB/s eta 0:00:01\n",
      "   ---------------------------------------- 78.5/78.5 kB 1.1 MB/s eta 0:00:00\n",
      "Installing collected packages: text-unidecode, tqdm, python-slugify, protobuf, kaggle\n",
      "Successfully installed kaggle-1.7.4 protobuf-6.30.0 python-slugify-8.0.4 text-unidecode-1.3 tqdm-4.67.1\n"
     ]
    },
    {
     "name": "stderr",
     "output_type": "stream",
     "text": [
      "\n",
      "[notice] A new release of pip is available: 24.0 -> 25.0.1\n",
      "[notice] To update, run: python.exe -m pip install --upgrade pip\n"
     ]
    }
   ],
   "source": [
    "!pip install kaggle"
   ]
  },
  {
   "cell_type": "code",
   "execution_count": 4,
   "metadata": {},
   "outputs": [],
   "source": [
    "import os\n",
    "os.environ['KAGGLE_USERNAME'] = data['username']\n",
    "os.environ['KAGGLE_KEY'] = data['key']"
   ]
  },
  {
   "cell_type": "code",
   "execution_count": 5,
   "metadata": {},
   "outputs": [],
   "source": [
    "from kaggle.api.kaggle_api_extended import KaggleApi\n",
    "api = KaggleApi()\n",
    "api.authenticate()"
   ]
  },
  {
   "cell_type": "code",
   "execution_count": 6,
   "metadata": {},
   "outputs": [
    {
     "name": "stdout",
     "output_type": "stream",
     "text": [
      "Dataset URL: https://www.kaggle.com/datasets/dineshpiyasamara/sentiment-analysis-dataset\n"
     ]
    }
   ],
   "source": [
    "api.dataset_download_files('dineshpiyasamara/sentiment-analysis-dataset', path='../artifacts/')"
   ]
  },
  {
   "cell_type": "code",
   "execution_count": 8,
   "metadata": {},
   "outputs": [],
   "source": [
    "import zipfile\n",
    "with zipfile.ZipFile('../artifacts/sentiment-analysis-dataset.zip', 'r') as zip_ref:\n",
    "    zip_ref.extractall('../artifacts/')\n"
   ]
  },
  {
   "cell_type": "code",
   "execution_count": null,
   "metadata": {},
   "outputs": [],
   "source": []
  }
 ],
 "metadata": {
  "kernelspec": {
   "display_name": "Python 3 (ipykernel)",
   "language": "python",
   "name": "python3"
  },
  "language_info": {
   "codemirror_mode": {
    "name": "ipython",
    "version": 3
   },
   "file_extension": ".py",
   "mimetype": "text/x-python",
   "name": "python",
   "nbconvert_exporter": "python",
   "pygments_lexer": "ipython3",
   "version": "3.12.2"
  }
 },
 "nbformat": 4,
 "nbformat_minor": 4
}
